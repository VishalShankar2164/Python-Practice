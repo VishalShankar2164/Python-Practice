{
 "cells": [
  {
   "cell_type": "code",
   "execution_count": 1,
   "id": "cf7b7293",
   "metadata": {},
   "outputs": [
    {
     "name": "stdout",
     "output_type": "stream",
     "text": [
      "3.0 <class 'float'>\n"
     ]
    }
   ],
   "source": [
    "#Declare an Float value and store it in a variable.Check the type and print the id of the same.\n",
    "\n",
    "a = (3.0)\n",
    "\n",
    "print(a,type(a))\n"
   ]
  },
  {
   "cell_type": "code",
   "execution_count": 2,
   "id": "e07bf7ec",
   "metadata": {},
   "outputs": [
    {
     "name": "stdout",
     "output_type": "stream",
     "text": [
      "40.599999999999994\n",
      "20.2\n",
      "310.08\n",
      "2.980392156862745\n",
      "10.0\n",
      "2.0\n",
      "1334475340043802.8\n"
     ]
    }
   ],
   "source": [
    "#Arithmetic Operations on Float.\n",
    "#Take two different Float values.Store them in two different variables.\n",
    "#Do below operations on them:-\n",
    "\n",
    "#Find sum of both numbers\n",
    "#Find difference between them\n",
    "#Find the product of both numbers.\n",
    "#Find value after dividing first num with second number\n",
    "#Find the remainder after dividing first number with second number\n",
    "#Find the quotient after dividing first number with second number\n",
    "#Find the result of the first num to the power of the second number.\n",
    "\n",
    "\n",
    "a = 30.4\n",
    "b = 10.2\n",
    "\n",
    "print(a+b)\n",
    "print(a-b)\n",
    "print(a*b)\n",
    "print(a/b)\n",
    "print(a%b)\n",
    "print(a//b)\n",
    "print(a**b)"
   ]
  },
  {
   "cell_type": "code",
   "execution_count": 3,
   "id": "314a62af",
   "metadata": {},
   "outputs": [
    {
     "name": "stdout",
     "output_type": "stream",
     "text": [
      "True\n",
      "False\n",
      "True\n",
      "False\n"
     ]
    }
   ],
   "source": [
    "#Comparison Operators on Float.\n",
    "#Take two different Float values.Store them in two different variables.\n",
    "#Do below operations on them:-Compare se two numbers with below operator:-\n",
    "\n",
    "#Greater than, '>'\n",
    "#Smaller than, '<'\n",
    "#Greater than or equal to, '>='\n",
    "#Less than or equal to, '<='\n",
    "#Observe their output(return type should be boolean)\n",
    "\n",
    "a = 30.4\n",
    "b = 10.2\n",
    "\n",
    "print(a>b)\n",
    "print(a<b)\n",
    "print(a>=b)\n",
    "print(a<=b)"
   ]
  },
  {
   "cell_type": "code",
   "execution_count": 4,
   "id": "92664435",
   "metadata": {},
   "outputs": [
    {
     "name": "stdout",
     "output_type": "stream",
     "text": [
      "False\n",
      "True\n"
     ]
    }
   ],
   "source": [
    "#Equality Operator\n",
    "#Take two different Float values.Store them in two different variables.\n",
    "#Equate them using equality operators (==, !=)\n",
    "#Observe the output(return type should be boolean)\n",
    "\n",
    "a = 30.4\n",
    "b = 10.2\n",
    "\n",
    "print(a==b)\n",
    "print(a!=b)"
   ]
  },
  {
   "cell_type": "code",
   "execution_count": 8,
   "id": "ceaf6d79",
   "metadata": {},
   "outputs": [
    {
     "name": "stdout",
     "output_type": "stream",
     "text": [
      "20.3\n",
      "0.0\n",
      "0.0\n",
      "0.0\n",
      "10.2\n",
      "20.3\n",
      "20.3\n",
      "0.0\n",
      "False\n",
      "True\n"
     ]
    }
   ],
   "source": [
    "#Logical operators\n",
    "#Observe the output of below code\n",
    "#Cross check the output manually\n",
    "\n",
    "##Result will be A if A is False else B,in Float 0 is false and rest all are true\n",
    "print(10.20 and 20.30)\n",
    "\n",
    "#First value is false so first value will be the output\n",
    "print(0.0 and 20.30)\n",
    "\n",
    "#First value is True and second value is False the output will be 0.0\n",
    "print(20.30 and 0.0)\n",
    "\n",
    "##First value is false so first value will be the output\n",
    "print(0.0 and 0.0)\n",
    "\n",
    "#Result will be A if A is True else B,in Float 0.0 is false and rest all are true\n",
    "print(10.20 or 20.30)\n",
    "print(0.0 or 20.30) #Goes to till second and second is true\n",
    "print(20.30 or 0.0) #First is True so first value is\n",
    "print(0.0 or 0.0) #Goes to till second and second is also\n",
    "print(not 10.20) #-Not of true is false->Output is False\n",
    "print(not 0.0) #Not of false is True>Output is True"
   ]
  },
  {
   "cell_type": "code",
   "execution_count": 11,
   "id": "6373a671",
   "metadata": {},
   "outputs": [
    {
     "name": "stdout",
     "output_type": "stream",
     "text": [
      "False\n",
      "True\n",
      "2329819418448\n",
      "2329819419088\n"
     ]
    }
   ],
   "source": [
    "#What is the output of expression inside print statement. Cross check before running the program.\n",
    "\n",
    "a = 10.20\n",
    "b = 10.20\n",
    "\n",
    "print(a is b) #This will be False. Although the values of a and b are the same,But two different objects in memory.\n",
    "print(a is not b) #This will be True\n",
    "print(id(a))\n",
    "print(id(b))"
   ]
  },
  {
   "cell_type": "code",
   "execution_count": 12,
   "id": "1659988a",
   "metadata": {},
   "outputs": [
    {
     "name": "stdout",
     "output_type": "stream",
     "text": [
      "2329819415408\n",
      "2329819419152\n",
      "2329819415408\n"
     ]
    }
   ],
   "source": [
    "a = 10.5\n",
    "b = 10.5\n",
    "c = a\n",
    "\n",
    "print(id(a))\n",
    "print(id(b))\n",
    "print(id(c))\n",
    "\n",
    "#id(a) and id(b) may be different,but id(c) will be the same as id(a), \n",
    "#as both a and c reference the same float object in memory.\n"
   ]
  },
  {
   "cell_type": "code",
   "execution_count": null,
   "id": "538129b8",
   "metadata": {},
   "outputs": [],
   "source": [
    "#Bitwise operation is not applicable between instances of float.\n",
    "\n",
    "#Bitwise operations are meaningful and applicable only to integer data types"
   ]
  },
  {
   "cell_type": "code",
   "execution_count": 13,
   "id": "a51b5b49",
   "metadata": {},
   "outputs": [
    {
     "name": "stdout",
     "output_type": "stream",
     "text": [
      "True\n",
      "True\n",
      "True\n",
      "True\n",
      "True\n",
      "True\n"
     ]
    }
   ],
   "source": [
    "#Membership operation in, not in are two membership operators and it returns boolean value\n",
    "\n",
    "print('2.7' in 'Python2.7.8') #True\n",
    "print(10.20 in [10,10.20,10+20j,'Python']) #True\n",
    "print(10.20 in (10,10.20,10+20j,'Python')) # True\n",
    "print(20.30 in {1,20.30,30+40j}) # True\n",
    "print(2.3 in {1:100, 2.3:200, 30+40j:300}) # True\n",
    "print(10 in range(20)) # True\n",
    "\n",
    "#The membership operators in and not in return a boolean value,\n",
    "#indicating whether the left operand is present in the right operand"
   ]
  },
  {
   "cell_type": "code",
   "execution_count": null,
   "id": "b96d3951",
   "metadata": {},
   "outputs": [],
   "source": []
  }
 ],
 "metadata": {
  "kernelspec": {
   "display_name": "Python 3 (ipykernel)",
   "language": "python",
   "name": "python3"
  },
  "language_info": {
   "codemirror_mode": {
    "name": "ipython",
    "version": 3
   },
   "file_extension": ".py",
   "mimetype": "text/x-python",
   "name": "python",
   "nbconvert_exporter": "python",
   "pygments_lexer": "ipython3",
   "version": "3.11.5"
  }
 },
 "nbformat": 4,
 "nbformat_minor": 5
}
