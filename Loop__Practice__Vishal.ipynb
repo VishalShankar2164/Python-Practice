{
 "cells": [
  {
   "cell_type": "code",
   "execution_count": 2,
   "id": "85634f5f",
   "metadata": {},
   "outputs": [
    {
     "name": "stdout",
     "output_type": "stream",
     "text": [
      "Enter number from 0 to 9: 11\n",
      "number out of range\n"
     ]
    }
   ],
   "source": [
    "#W. A P. which takes one number from 0 to 9 from the user and prints\n",
    "#it in the word. And if the word is not from 0 to 9 then\n",
    "#it should print that number is outside of the range and program should exit.\n",
    "\n",
    "num = int(input(\"Enter number from 0 to 9: \"))\n",
    "\n",
    "if num == 0:\n",
    "    print('zero')\n",
    "elif num == 1:\n",
    "    print('one')\n",
    "elif num == 2:\n",
    "    print('two')\n",
    "elif num == 3:\n",
    "    print('three')\n",
    "elif num == 4:\n",
    "    print('four')\n",
    "elif num == 5:\n",
    "    print('five')\n",
    "elif num == 6 :\n",
    "    print(six)\n",
    "elif num == 7:\n",
    "    print('seven')\n",
    "elif num == 8:\n",
    "    print('eight')\n",
    "elif num == 9:\n",
    "    print('nine')\n",
    "else:\n",
    "    print('number out of range')\n"
   ]
  },
  {
   "cell_type": "code",
   "execution_count": 2,
   "id": "f4627cce",
   "metadata": {},
   "outputs": [
    {
     "name": "stdout",
     "output_type": "stream",
     "text": [
      "Enter a Number: 0\n",
      "Enter a Number : 0\n",
      "Please select any one operation from below:\n",
      "To add enter 1\n",
      "To subtract enter 2\n",
      "To multiply enter 3\n",
      "To divide enter 4\n",
      "To divide and find quotient enter 5\n",
      "To divide and find remainder enter 6\n",
      "To divide and find num1 to the power of num2 enter 7 \n",
      "To Come out of the program enter 8\n",
      "Enter the operation: 5\n",
      "Cant divide by 0\n"
     ]
    }
   ],
   "source": [
    "#W. A P. to implement calculator but the operation to be done and two\n",
    "#numbers will be taken as input from user:-\n",
    "#Operation console should show below:-\n",
    "#Please select any one operation from below:-\n",
    "#* To add enter 1\n",
    "#* to subtract enter 2\n",
    "#* To multiply enter 3\n",
    "#* To divide enter 4\n",
    "#* To divide and find quotient enter 5\n",
    "#* To divide and find remainder enter 6\n",
    "#* To divide and find num1 to the power of num2 enter 7\n",
    "#* To Come out of the program enter 8\n",
    "\n",
    "num1 = float(input(\"Enter a Number: \"))\n",
    "num2 = float(input(\"Enter a Number : \"))\n",
    "\n",
    "print(\"Please select any one operation from below:\")\n",
    "print(\"To add enter 1\")\n",
    "print(\"To subtract enter 2\")\n",
    "print(\"To multiply enter 3\")\n",
    "print(\"To divide enter 4\")\n",
    "print(\"To divide and find quotient enter 5\")\n",
    "print(\"To divide and find remainder enter 6\")\n",
    "print(\"To divide and find num1 to the power of num2 enter 7 \")\n",
    "print(\"To Come out of the program enter 8\")\n",
    "\n",
    "operations = int(input(\"Enter the operation: \"))\n",
    "\n",
    "if operations == 1:\n",
    "    print(num1 + num2)\n",
    "elif operations == 2 :\n",
    "    print(num1 - num2)\n",
    "elif operations == 3 :\n",
    "    print(num1 * num2)\n",
    "elif operations == 4 :\n",
    "    if num2 != 0 :\n",
    "        print(num1 / num2)\n",
    "    else:\n",
    "        print(\"Cant divide by 0\")\n",
    "elif operations == 5 :\n",
    "    if num2 != 0 :\n",
    "        print(num1 // num2)\n",
    "    else:\n",
    "        print(\"Cant divide by 0\")\n",
    "elif operations == 6 :\n",
    "    print(num1 % num2)\n",
    "elif operations == 7 :\n",
    "    print(num1 ** num2)\n",
    "elif operations == 8 :\n",
    "    exit()\n",
    "else:\n",
    "    print(\"Enter a valid operation\")\n",
    "    "
   ]
  },
  {
   "cell_type": "code",
   "execution_count": 23,
   "id": "8325523e",
   "metadata": {},
   "outputs": [
    {
     "name": "stdout",
     "output_type": "stream",
     "text": [
      "Enter a year: 1800\n",
      "not leap year\n"
     ]
    }
   ],
   "source": [
    "#W A P to check whether a year entered by user is an leap year or not ?\n",
    "#Check with below input:-\n",
    "#leap year:- 2012 , 1968 , 2004 , 1200 , 1600 , 2400\n",
    "#Non-lear year:- 1971 , 2006 , 1700 , 1800 , 1900\n",
    "\n",
    "year = int(input(\"Enter a year: \"))\n",
    "\n",
    "if year % 4 == 0:\n",
    "    if year % 100 == 0:\n",
    "        if year % 400 == 0:\n",
    "            print(\"Leap year\")\n",
    "        else:\n",
    "            print(\"Not leap year\")\n",
    "    else:      \n",
    "        print(\"Leap year\")\n",
    "else:\n",
    "    print(\"Not Leap Year\")\n",
    "    "
   ]
  },
  {
   "cell_type": "code",
   "execution_count": 26,
   "id": "20cb210c",
   "metadata": {},
   "outputs": [
    {
     "name": "stdout",
     "output_type": "stream",
     "text": [
      "Enter a number: 4\n",
      "Number is Even\n"
     ]
    }
   ],
   "source": [
    "#Q. W A P which takes one number from the user and checks whether it is\n",
    "#an even or odd number?, If it even then prints number is\n",
    "#even number else prints that number is odd number.  \n",
    "\n",
    "Num = int(input(\"Enter a number: \"))\n",
    "\n",
    "if Num % 2 == 0:\n",
    "    print(\"Number is Even\")\n",
    "else:\n",
    "    print(\"Number is odd\")"
   ]
  },
  {
   "cell_type": "code",
   "execution_count": 28,
   "id": "2d7211b6",
   "metadata": {},
   "outputs": [
    {
     "name": "stdout",
     "output_type": "stream",
     "text": [
      "Enter a Number: 10\n",
      "Enter a Number: 10\n",
      "num1 is equal to num2\n"
     ]
    }
   ],
   "source": [
    "#Q. W A P which takes two numbers from the user and prints below output:-\n",
    "#1 . num1 is greater than num2 if num1 is greater than num2\n",
    "#2 . num1 is smaller than num2 if num1 is smaller than num2\n",
    "#3 . num1 is equal to num2 if num1 and num2 are equal#\n",
    "\n",
    "num1 = int(input(\"Enter first number: \"))\n",
    "num2 = int(input(\"Enter second number: \"))\n",
    "\n",
    "if num1 > num2:\n",
    "    print(\"num1 is greater than num2\")\n",
    "elif num1 < num2:\n",
    "    print(\"num1 is smaller than num2\") \n",
    "else:\n",
    "    print(\"num1 is equal to num2\")\n",
    "    "
   ]
  },
  {
   "cell_type": "markdown",
   "id": "ac0c0f46",
   "metadata": {},
   "source": []
  },
  {
   "cell_type": "code",
   "execution_count": null,
   "id": "a7e8ed91",
   "metadata": {},
   "outputs": [],
   "source": [
    "#Q. W A P which takes three numbers from the user and prints below\n",
    "#output:-\n",
    "#1 . num1 is greater than num2 and num3 if num1 is greater than num2 and num3\n",
    "#2 . num2 is greater than num1 and num3 if num2 is greater than num1 and num3\n",
    "#3 . num3 is greater than num1 and num2 if num3 is greater than num1 and num2"
   ]
  },
  {
   "cell_type": "code",
   "execution_count": 5,
   "id": "a87f973a",
   "metadata": {},
   "outputs": [
    {
     "name": "stdout",
     "output_type": "stream",
     "text": [
      "Enter a number : 2\n",
      "Enter a number : 5\n",
      "Enter a number : 8\n",
      "num3 is greater than num1 and num2\n"
     ]
    }
   ],
   "source": [
    "num1 = int(input(\"Enter a number : \"))\n",
    "num2 = int(input(\"Enter a number : \"))\n",
    "num3 = int(input(\"Enter a number : \"))\n",
    "\n",
    "if num1 > num2 and num1 > num3:\n",
    "    print(\"num1 is greater than num2 and num3\")\n",
    "elif num2 > num1 and num2 > num3:\n",
    "    print(\"num2 is greater than num1 and num3\")\n",
    "elif num3 > num1 and num3 > num2:\n",
    "    print(\"num3 is greater than num1 and num2\")\n"
   ]
  },
  {
   "cell_type": "code",
   "execution_count": 8,
   "id": "ed452dac",
   "metadata": {},
   "outputs": [
    {
     "name": "stdout",
     "output_type": "stream",
     "text": [
      "55\n"
     ]
    }
   ],
   "source": [
    "#Q. Write a Python program to find the length of the my_str using loop:-\n",
    "#Input:- 'Write a Python program to find the length of the my_str'\n",
    "#Output:- 55\n",
    "\n",
    "Input = 'Write a Python program to find the length of the my_str'\n",
    "Output:- 55\n",
    "length = 0\n",
    "\n",
    "for i in Input:\n",
    "    length += 1 \n",
    "print(length)"
   ]
  },
  {
   "cell_type": "code",
   "execution_count": 10,
   "id": "74821eb4",
   "metadata": {},
   "outputs": [
    {
     "name": "stdout",
     "output_type": "stream",
     "text": [
      "9\n"
     ]
    }
   ],
   "source": [
    "#Write a Python program to find the total number of times letter 'p'\n",
    "#is appeared in the below string using loop:-\n",
    "#Input:- 'peter piper picked a peck of pickled peppers.\\n'\n",
    "#Output:- 9\n",
    "\n",
    "Input= 'peter piper picked a peck of pickled peppers.\\n'\n",
    "count = 0\n",
    "for i in Input:\n",
    "    if i == \"p\":\n",
    "        count +=1\n",
    "        \n",
    "print(count)\n",
    "    "
   ]
  },
  {
   "cell_type": "code",
   "execution_count": 6,
   "id": "f55696dd",
   "metadata": {},
   "outputs": [
    {
     "name": "stdout",
     "output_type": "stream",
     "text": [
      "0\n",
      "6\n",
      "8\n",
      "12\n",
      "21\n",
      "29\n",
      "37\n",
      "39\n",
      "40\n"
     ]
    }
   ],
   "source": [
    "#Write a Python Program, to print all the indexes of all occurences of\n",
    "#letter 'p' appeared in the string using loop:-\n",
    "#Input:- 'peter piper picked a peck of pickled peppers.'\n",
    "\n",
    "Input= 'peter piper picked a peck of pickled peppers.'\n",
    "\n",
    "\n",
    "for i in range(len(Input)):\n",
    "    if Input[i] == \"p\":\n",
    "        print(i)\n",
    "      "
   ]
  },
  {
   "cell_type": "code",
   "execution_count": 21,
   "id": "78cb4608",
   "metadata": {},
   "outputs": [
    {
     "name": "stdout",
     "output_type": "stream",
     "text": [
      "[' peter', ' piper', ' picked', ' a', ' peck', ' of', ' pickled', ' peppers.']\n"
     ]
    }
   ],
   "source": [
    "#Q. Write a python program to find below output using loop:-\n",
    "#Input:- 'peter piper picked a peck of pickled peppers.'\n",
    "#Output:- [ 'peter' , 'piper' , 'picked' , 'a' , 'peck' , 'of' , 'pickled' ,\n",
    "#'peppers' ]\n",
    "\n",
    "Input= 'peter piper picked a peck of pickled peppers.'\n",
    "Output = []\n",
    "Count = \" \"\n",
    "\n",
    "for i in Input:\n",
    "    if i == \" \":\n",
    "        Output.append(Count)\n",
    "        Count = \" \"\n",
    "    else:\n",
    "        Count += i\n",
    "Output.append(Count)\n",
    "print(Output)"
   ]
  },
  {
   "cell_type": "code",
   "execution_count": 5,
   "id": "c90363c2",
   "metadata": {},
   "outputs": [
    {
     "name": "stdout",
     "output_type": "stream",
     "text": [
      "peppers. pickled of peck a picked piper peter\n"
     ]
    }
   ],
   "source": [
    "#Q. Write a python program to find below output using loop:-\n",
    "#Input:- 'peter piper picked a peck of pickled peppers.'\n",
    "#Output:- 'peppers.pickled of peck a picked piper peter'\n",
    "\n",
    "Input =  'peter piper picked a peck of pickled peppers.'\n",
    "words = Input.split(\" \")\n",
    "reverse = []\n",
    "for i in range(len(words)-1,-1,-1):\n",
    "    reverse.append(words[i])\n",
    "    \n",
    "print(\" \" .join(reverse))\n",
    "    \n",
    "   "
   ]
  },
  {
   "cell_type": "code",
   "execution_count": 4,
   "id": "53e0fb0a",
   "metadata": {},
   "outputs": [
    {
     "name": "stdout",
     "output_type": "stream",
     "text": [
      "peppers. pickled of peck a picked piper peter\n"
     ]
    }
   ],
   "source": [
    "#Q. Write a python program to find below output using loop:-\n",
    "#Input:- 'peter piper picked a peck of pickled peppers.'\n",
    "#Output:- '.sreppep delkcip fo kcep a dekcip repip retep'\n",
    "\n",
    "\n",
    "\n",
    "\n",
    "Input= 'peter piper picked a peck of pickled peppers.'\n",
    "reverse = \"\"\n",
    "for i in range(len(Input)-1,-1,-1):\n",
    "    reverse += Input[i]    \n",
    "print(reverse)"
   ]
  },
  {
   "cell_type": "code",
   "execution_count": 15,
   "id": "95cefa55",
   "metadata": {},
   "outputs": [
    {
     "name": "stdout",
     "output_type": "stream",
     "text": [
      " retep repip dekcip a kcep fo delkcip .sreppep \n"
     ]
    }
   ],
   "source": [
    "#Q. Write a python program to find below output using loop:-\n",
    "#Input:- 'peter piper picked a peck of pickled peppers.'\n",
    "#Output:- 'retep repip dekcip a kcep fo delkcip .sreppep'\n",
    "\n",
    "Input= 'peter piper picked a peck of pickled peppers.'\n",
    "words = Input.split()\n",
    "new = \" \"\n",
    "for i in words:\n",
    "    new += i[::-1] + \" \"\n",
    "    \n",
    "print(new)\n"
   ]
  },
  {
   "cell_type": "code",
   "execution_count": 3,
   "id": "48f65ebd",
   "metadata": {},
   "outputs": [
    {
     "name": "stdout",
     "output_type": "stream",
     "text": [
      "Peter Piper Picked A Peck Of Pickled Peppers.\n"
     ]
    }
   ],
   "source": [
    "#Q. Write a python program to find below output using loop:-\n",
    "#Input:- 'peter piper picked a peck of pickled peppers.'\n",
    "#Output:- 'Peter Piper Picked A Peck Of Pickled Peppers'\n",
    "\n",
    "Input = 'peter piper picked a peck of pickled peppers.'\n",
    "capital = []\n",
    "\n",
    "for i in Input.split():\n",
    "    capital.append(i.capitalize())\n",
    "\n",
    "print(' '.join(capital))"
   ]
  },
  {
   "cell_type": "code",
   "execution_count": 9,
   "id": "40963598",
   "metadata": {},
   "outputs": [
    {
     "name": "stdout",
     "output_type": "stream",
     "text": [
      "peter piper picked a peck of pickled peppers.\n"
     ]
    }
   ],
   "source": [
    "#Q. Write a python program to find below output using loop:-\n",
    "#Input:- 'Peter Piper Picked A Peck Of Pickled Peppers.'\n",
    "#Output:- 'Peter piper picked a peck of pickled peppers'\n",
    "\n",
    "Input= 'Peter Piper Picked A Peck Of Pickled Peppers.'\n",
    "\n",
    "lower = []\n",
    "\n",
    "for i in Input.split():\n",
    "    lower.append(i.lower())\n",
    "\n",
    "print(' '.join(lower))\n"
   ]
  },
  {
   "cell_type": "code",
   "execution_count": 23,
   "id": "2bab71f5",
   "metadata": {},
   "outputs": [
    {
     "name": "stdout",
     "output_type": "stream",
     "text": [
      "29\n"
     ]
    }
   ],
   "source": [
    "#Q. Write a python program to implement index method using loop. If\n",
    "#sub_str is found in my_str then it will print the index\n",
    "#of first occurrence of first character of matching string in my_str:-\n",
    "#Input:- my_str = 'Peter Piper Picked A Peck Of Pickled Peppers.' ,\n",
    "#sub_str = 'Pickl'\n",
    "#Output:- 29\n",
    "\n",
    "\n",
    "\n",
    "Input = 'Peter Piper Picked A Peck Of Pickled Peppers.'\n",
    "sub_str = 'Pickl'\n",
    "index = -1\n",
    "\n",
    "for i in range(len(Input)):\n",
    "    if Input[i:i+len(sub_str)] == sub_str:\n",
    "        index = i\n",
    "        break\n",
    "\n",
    "print(index)"
   ]
  },
  {
   "cell_type": "code",
   "execution_count": 28,
   "id": "70d20bf4",
   "metadata": {},
   "outputs": [
    {
     "name": "stdout",
     "output_type": "stream",
     "text": [
      "Peter Piper Picked A Pack Of Pickled Peppers.\n"
     ]
    }
   ],
   "source": [
    "#Q. Write a python program to implement replace method using loop. If\n",
    "#sub_str is found in my_str then it will replace the first\n",
    "#occurrence of sub_str with new_str else it will will print sub_str not found\n",
    "\n",
    "\n",
    "my_str = 'Peter Piper Picked A Peck Of Pickled Peppers.'\n",
    "sub_str = 'Peck'\n",
    "new_str = 'Pack'\n",
    "\n",
    "index = my_str.find(sub_str) \n",
    "\n",
    "if index != -1:\n",
    "    updated_str = my_str[:index] + new_str + my_str[index + len(sub_str):]\n",
    "    print(updated_str)\n",
    "else:\n",
    "    print(\"Substring not found\")\n"
   ]
  },
  {
   "cell_type": "code",
   "execution_count": 29,
   "id": "f7ba3d38",
   "metadata": {},
   "outputs": [
    {
     "name": "stdout",
     "output_type": "stream",
     "text": [
      "*********************Peck***********************\n"
     ]
    }
   ],
   "source": [
    "#Q. Write a python program to find below output (implements rjust and\n",
    "#ljust) using loop:-\n",
    "#Input:- 'Peter Piper Picked A Peck Of Pickled Peppers.' , sub_str =\n",
    "#'Peck' ,\n",
    "#Output:- '*********************Peck********************'#\n",
    "\n",
    "\n",
    "my_str = 'Peter Piper Picked A Peck Of Pickled Peppers.'\n",
    "sub_str = 'Peck'\n",
    "output = ''\n",
    "\n",
    "for i in range(len(my_str)):\n",
    "    if my_str[i:i+len(sub_str)] == sub_str:\n",
    "        output += sub_str\n",
    "    else:\n",
    "        output += '*'\n",
    "\n",
    "print(output)"
   ]
  },
  {
   "cell_type": "code",
   "execution_count": 31,
   "id": "6f285aa7",
   "metadata": {},
   "outputs": [],
   "source": [
    "#Q. Write a python program to find below output using loop:-\n",
    "#Input:- 'This is Python class' , sep = ' is' ,\n",
    "#Output:- [ 'This' , 'is' , 'Python class' ]\n",
    "\n"
   ]
  },
  {
   "cell_type": "code",
   "execution_count": null,
   "id": "f28898a8",
   "metadata": {},
   "outputs": [],
   "source": []
  }
 ],
 "metadata": {
  "kernelspec": {
   "display_name": "Python 3 (ipykernel)",
   "language": "python",
   "name": "python3"
  },
  "language_info": {
   "codemirror_mode": {
    "name": "ipython",
    "version": 3
   },
   "file_extension": ".py",
   "mimetype": "text/x-python",
   "name": "python",
   "nbconvert_exporter": "python",
   "pygments_lexer": "ipython3",
   "version": "3.11.5"
  }
 },
 "nbformat": 4,
 "nbformat_minor": 5
}
