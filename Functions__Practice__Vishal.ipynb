{
 "cells": [
  {
   "cell_type": "code",
   "execution_count": null,
   "metadata": {},
   "outputs": [],
   "source": [
    "#Q1. Write a Python program to read a file line by line and store it into a list\n",
    "\n",
    "with open('file.txt', 'r') as f:\n",
    "    content = f.readlines()\n",
    "    \n",
    "#Q2. Write a Python program to extract characters from various text files and puts them into a list.\n",
    "# Importing the os module to work with file paths\n",
    "\n",
    "import os\n",
    "\n",
    "\n",
    "def extract_characters(file_paths):\n",
    "    characters_list = []\n",
    "\n",
    "    for path in file_paths:\n",
    "        if os.path.isfile(path):\n",
    "            with open(path, 'r') as file:\n",
    "                contents = file.read()\n",
    "                for char in contents:\n",
    "                    characters_list.append(char)\n",
    "        else:\n",
    "            print(f\"Error: {path} is not a valid file.\")\n",
    "    return characters_list"
   ]
  },
  {
   "cell_type": "code",
   "execution_count": 5,
   "metadata": {},
   "outputs": [
    {
     "name": "stdout",
     "output_type": "stream",
     "text": [
      "30\n"
     ]
    }
   ],
   "source": [
    "#1. Write a Python function to find the Max of three numbers.\n",
    "\n",
    "def max(a,b,c):\n",
    "    if a > b and a > c:\n",
    "        print(a)\n",
    "    elif b > a and b > c:\n",
    "        print(b)\n",
    "    elif c > a and c > b:\n",
    "        print(c)\n"
   ]
  },
  {
   "cell_type": "code",
   "execution_count": 3,
   "metadata": {},
   "outputs": [
    {
     "name": "stdout",
     "output_type": "stream",
     "text": [
      "55\n"
     ]
    }
   ],
   "source": [
    "# Write a Python function to sum all the numbers in a list\n",
    "\n",
    "def sum_list(lst):\n",
    "    total = 0\n",
    "    for i in lst:\n",
    "        total += i\n",
    "    print(total)\n",
    "\n",
    "        \n",
    "sum_list([1, 2, 3, 4, 5, 6, 7, 8, 9, 10])"
   ]
  },
  {
   "cell_type": "code",
   "execution_count": 9,
   "metadata": {},
   "outputs": [
    {
     "ename": "SyntaxError",
     "evalue": "invalid syntax (3924855429.py, line 12)",
     "output_type": "error",
     "traceback": [
      "\u001b[1;36m  Cell \u001b[1;32mIn[9], line 12\u001b[1;36m\u001b[0m\n\u001b[1;33m    def is_pangram(The quick brown fox jumps over the lazy dog)\u001b[0m\n\u001b[1;37m                       ^\u001b[0m\n\u001b[1;31mSyntaxError\u001b[0m\u001b[1;31m:\u001b[0m invalid syntax\n"
     ]
    }
   ],
   "source": [
    "#3. Write a Python function to check whether a string is a pangram or not. </b> <br>\n",
    "#Note : Pangrams are words or sentences containing every letter of the alphabet at least once.<br>\n",
    "#For example : \"The quick brown fox jumps over the lazy dog\"\n",
    "\n",
    "\n"
   ]
  },
  {
   "cell_type": "code",
   "execution_count": 11,
   "metadata": {},
   "outputs": [
    {
     "name": "stdout",
     "output_type": "stream",
     "text": [
      "[('Social sciences', 82), ('English', 88), ('Science', 90), ('Maths', 97)]\n"
     ]
    }
   ],
   "source": [
    "#4. Write a Python program to sort a list of tuples using Lambda.</b> <br>\n",
    "#Original list of tuples:\n",
    "#Sorting the List of Tuples:#\n",
    "#[('Social sciences', 82), ('English', 88), ('Science', 90), ('Maths', 97)]<br>\n",
    "\n",
    "lst = [('English', 88), ('Science', 90), ('Maths', 97), ('Social sciences', 82)]\n",
    "sort = sorted(lst , key = lambda x: x[1])\n",
    "print(sort)"
   ]
  },
  {
   "cell_type": "code",
   "execution_count": 12,
   "metadata": {},
   "outputs": [
    {
     "name": "stdout",
     "output_type": "stream",
     "text": [
      "1 2 3 5 8 13 21 34 55 89 144 233 377 610 987 1597 2584 4181 6765 10946 17711 28657 46368 75025 121393 196418 317811 514229 832040 1346269 2178309 3524578 5702887 9227465 14930352 24157817 39088169 63245986 102334155 165580141 267914296 433494437 701408733 1134903170 1836311903 2971215073 4807526976 7778742049 12586269025 20365011074 \n"
     ]
    }
   ],
   "source": [
    "#5. Write a Python program to get the Fibonacci series between 0 to 50. </b>\n",
    "\n",
    "\n",
    "n = 50\n",
    "num1 = 0\n",
    "num2 = 1\n",
    "next_number = num2  \n",
    "count = 1\n",
    " \n",
    "while count <= n:\n",
    "    print(next_number, end=\" \")\n",
    "    count += 1\n",
    "    num1, num2 = num2, next_number\n",
    "    next_number = num1 + num2\n",
    "print()\n"
   ]
  },
  {
   "cell_type": "code",
   "execution_count": 13,
   "metadata": {},
   "outputs": [
    {
     "data": {
      "text/plain": [
       "82.4"
      ]
     },
     "execution_count": 13,
     "metadata": {},
     "output_type": "execute_result"
    }
   ],
   "source": [
    "#6.Write a Python program to convert temperatures to and from celsius, fahrenheit\n",
    "\n",
    "\n",
    "def cel_to_far(celsius):\n",
    "    Fahrenheit = (celsius * 9/5)+32\n",
    "    return Fahrenheit\n",
    "\n",
    "cel_to_far(28)"
   ]
  },
  {
   "cell_type": "code",
   "execution_count": 18,
   "metadata": {},
   "outputs": [
    {
     "name": "stdout",
     "output_type": "stream",
     "text": [
      "['even', 'even', 'odd', 'odd']\n"
     ]
    }
   ],
   "source": [
    "#7. Write a Python program to count the number of even and odd numbers from a series of numbers. </b>\n",
    "\n",
    "def odd_or_even(lst):\n",
    "    result = list(map(lambda x: \"even\" if x % 2 == 0 else \"odd\", lst))\n",
    "    print(result)\n",
    "\n",
    "    \n",
    "odd_or_even([46,44,45,3])"
   ]
  },
  {
   "cell_type": "code",
   "execution_count": 19,
   "metadata": {},
   "outputs": [
    {
     "name": "stdout",
     "output_type": "stream",
     "text": [
      "1\n",
      "2\n",
      "Fizz\n",
      "4\n",
      "Buzz\n",
      "Fizz\n",
      "7\n",
      "8\n",
      "Fizz\n",
      "Buzz\n",
      "11\n",
      "Fizz\n",
      "13\n",
      "14\n",
      "FizzBuzz\n",
      "16\n",
      "17\n",
      "Fizz\n",
      "19\n",
      "Buzz\n",
      "Fizz\n",
      "22\n",
      "23\n",
      "Fizz\n",
      "Buzz\n",
      "26\n",
      "Fizz\n",
      "28\n",
      "29\n",
      "FizzBuzz\n",
      "31\n",
      "32\n",
      "Fizz\n",
      "34\n",
      "Buzz\n",
      "Fizz\n",
      "37\n",
      "38\n",
      "Fizz\n",
      "Buzz\n",
      "41\n",
      "Fizz\n",
      "43\n",
      "44\n",
      "FizzBuzz\n",
      "46\n",
      "47\n",
      "Fizz\n",
      "49\n",
      "Buzz\n"
     ]
    }
   ],
   "source": [
    "#8. Write a Python program which iterates the integers from 1 to 50. \n",
    "#For multiples of three print \"Fizz\" instead of the number and for the multiples of five print \"Buzz\". \n",
    "#For numbers which are multiples of both three and five print \"FizzBuzz\".\n",
    "\n",
    "for num in range(1, 51):\n",
    "    if num % 3 == 0 and num % 5 == 0:\n",
    "        print(\"FizzBuzz\")\n",
    "    elif num % 3 == 0:\n",
    "        print(\"Fizz\")\n",
    "    elif num % 5 == 0:\n",
    "        print(\"Buzz\")\n",
    "    else:\n",
    "        print(num)\n"
   ]
  },
  {
   "cell_type": "code",
   "execution_count": null,
   "metadata": {},
   "outputs": [],
   "source": []
  }
 ],
 "metadata": {
  "kernelspec": {
   "display_name": "Python 3 (ipykernel)",
   "language": "python",
   "name": "python3"
  },
  "language_info": {
   "codemirror_mode": {
    "name": "ipython",
    "version": 3
   },
   "file_extension": ".py",
   "mimetype": "text/x-python",
   "name": "python",
   "nbconvert_exporter": "python",
   "pygments_lexer": "ipython3",
   "version": "3.11.5"
  }
 },
 "nbformat": 4,
 "nbformat_minor": 4
}
