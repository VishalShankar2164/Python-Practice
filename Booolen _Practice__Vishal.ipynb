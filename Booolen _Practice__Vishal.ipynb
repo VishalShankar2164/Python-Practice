{
 "cells": [
  {
   "cell_type": "code",
   "execution_count": 1,
   "id": "57402a46",
   "metadata": {},
   "outputs": [
    {
     "name": "stdout",
     "output_type": "stream",
     "text": [
      "True <class 'bool'>\n"
     ]
    }
   ],
   "source": [
    "#Declare a boolean value and store it in a variable.\n",
    "#Check the type and print the id of the same.\n",
    "\n",
    "a = True\n",
    "\n",
    "print(a , type(a))"
   ]
  },
  {
   "cell_type": "code",
   "execution_count": 3,
   "id": "345f7cf9",
   "metadata": {},
   "outputs": [
    {
     "name": "stdout",
     "output_type": "stream",
     "text": [
      "140710539438624\n",
      "140710539438624\n"
     ]
    }
   ],
   "source": [
    "#Take one boolean value between 0 - 256.Assign it to two different variables.\n",
    "#Check the id of both the variables. It should come the same. Check why?\n",
    "\n",
    "a = bool(1)\n",
    "b = bool(1)\n",
    "\n",
    "print(id(a))\n",
    "print(id(b))\n",
    "\n",
    "#The boolean values True and False are treated as integers 1 and 0, respectively.\n",
    "#The memory Reusablity concept is applied to integers in the range -5 to 256. \n",
    "#This means that these integers, including the boolean values True and False, \n",
    "#will share the same memory address when assigned to multiple variables."
   ]
  },
  {
   "cell_type": "code",
   "execution_count": 5,
   "id": "5bb87896",
   "metadata": {},
   "outputs": [
    {
     "name": "stdout",
     "output_type": "stream",
     "text": [
      "1\n",
      "-1\n",
      "0\n",
      "0.0\n",
      "0\n",
      "0\n",
      "0\n"
     ]
    }
   ],
   "source": [
    "#Arithmetic Operations on Bool.\n",
    "#Take two different bool values.Store them in two different variables.\n",
    "#Do below operations on them:-\n",
    "\n",
    "#Find sum of both numbers\n",
    "#Find difference between them\n",
    "#Find the product of both numbers.\n",
    "#Find value after dividing first num with second number\n",
    "#Find the remainder after dividing first number with second number\n",
    "#Find the quotient after dividing first number with second number\n",
    "#Find the result of the first num to the power of the second number.\n",
    "\n",
    "\n",
    "a = False\n",
    "b = True\n",
    "\n",
    "print(a+b)\n",
    "print(a-b)\n",
    "print(a*b)\n",
    "print(a/b)\n",
    "print(a%b)\n",
    "print(a//b)\n",
    "print(a**b)"
   ]
  },
  {
   "cell_type": "code",
   "execution_count": 6,
   "id": "765d2fc5",
   "metadata": {},
   "outputs": [
    {
     "name": "stdout",
     "output_type": "stream",
     "text": [
      "False\n",
      "True\n",
      "False\n",
      "True\n"
     ]
    }
   ],
   "source": [
    "#Comparison Operators on bool.\n",
    "#Take two different integer values.Store them in two different variables.\n",
    "#Do below operations on them:-Compare se two numbers with below operator:-\n",
    "\n",
    "#Greater than, '>'\n",
    "#Smaller than, '<'\n",
    "#Greater than or equal to, '>='\n",
    "#Less than or equal to, '<='\n",
    "#Observe their output(return type should be boolean)\n",
    "\n",
    "a = False\n",
    "b = True\n",
    "\n",
    "\n",
    "print(a>b)\n",
    "print(a<b)\n",
    "print(a>=b)\n",
    "print(a<=b)"
   ]
  },
  {
   "cell_type": "code",
   "execution_count": 7,
   "id": "f25561e7",
   "metadata": {},
   "outputs": [
    {
     "name": "stdout",
     "output_type": "stream",
     "text": [
      "False\n",
      "True\n"
     ]
    }
   ],
   "source": [
    "#Equality Operator\n",
    "#Take two different bool values.Store them in two different variables.\n",
    "#Equate them using equality operators (==, !=)\n",
    "#Observe the output(return type should be boolean)\n",
    "\n",
    "a = False\n",
    "b = True\n",
    "\n",
    "print(a==b)\n",
    "print(a!=b)"
   ]
  },
  {
   "cell_type": "code",
   "execution_count": 8,
   "id": "2426459d",
   "metadata": {},
   "outputs": [
    {
     "name": "stdout",
     "output_type": "stream",
     "text": [
      "True\n",
      "False\n",
      "False\n",
      "False\n",
      "True\n",
      "True\n",
      "True\n",
      "False\n",
      "False\n",
      "True\n"
     ]
    }
   ],
   "source": [
    "#Logical operators \n",
    "#Observe the output of below code. Cross check the output manually\n",
    "\n",
    "\n",
    "\n",
    "print(True and True)\n",
    "# Output is True\n",
    "# AND operator returns True if both operands are True.\n",
    "\n",
    "print(False and True)\n",
    "# Output is False\n",
    "# AND operator returns False if at least one operand is False.\n",
    "\n",
    "print(True and False)\n",
    "# Output is False\n",
    "# AND operator returns False if at least one operand is False.\n",
    "\n",
    "print(False and False)\n",
    "# Output is False\n",
    "# AND operator returns False if at least one operand is False.\n",
    "\n",
    "print(True or True)\n",
    "# Output is True\n",
    "# OR operator returns True if at least one operand is True.\n",
    "\n",
    "print(False or True)\n",
    "# Output is True\n",
    "# OR operator returns True if at least one operand is True.\n",
    "\n",
    "print(True or False)\n",
    "# Output is True\n",
    "# OR operator returns True if at least one operand is True.\n",
    "\n",
    "print(False or False)\n",
    "# Output is False\n",
    "# OR operator returns False only if both operands are False.\n",
    "\n",
    "print(not True)\n",
    "# Output is False\n",
    "# NOT operator negates the operand, so not True is False.\n",
    "\n",
    "print(not False)\n",
    "# Output is True\n",
    "# NOT operator negates the operand, so not False is True.\n"
   ]
  },
  {
   "cell_type": "code",
   "execution_count": 9,
   "id": "21a3f162",
   "metadata": {},
   "outputs": [
    {
     "data": {
      "text/plain": [
       "0"
      ]
     },
     "execution_count": 9,
     "metadata": {},
     "output_type": "execute_result"
    }
   ],
   "source": [
    "#Q. Bitwise Operators\n",
    "#Do below operations on the values provided below:-\n",
    "\n",
    "#Bitwise and(&) \n",
    "\n",
    "True&True\n",
    "#Bitwise AND (&): `True & True` evaluates to `True`.\n",
    "#The bitwise AND operation returns `True` only if both bits are `True`.\n",
    "\n",
    "\n",
    "#Bitwise or(|)\n",
    "\n",
    "True | False\n",
    "#`True | False` evaluates to `True`.\n",
    "#The bitwise OR operation returns `True` if at least one of the bits is `True`.\n",
    "\n",
    "#Bitwise(^) \n",
    "\n",
    "True ^ False\n",
    "#`True ^ False` evaluates to `True`.\n",
    "#The bitwise XOR operation returns `True` if the bits are different.\n",
    "\n",
    "\n",
    "#Bitwise negation(~) \n",
    "\n",
    "True\n",
    "#The bitwise negation inverts the bits and adds 1 to the result\n",
    "\n",
    "\n",
    "#Bitwise left shift\n",
    "\n",
    "True<<2\n",
    "#The bitwise left shift shifts the bits to the left by the specified number of positions, filling in with zeros\n",
    "\n",
    "\n",
    "#Bitwise Right Shift\n",
    "\n",
    "True >> 2\n",
    "#The bitwise right shift shifts the bits to the right by the specified number of positions, \n",
    "#discarding the shifted-off bits.\n",
    "\n",
    "\n"
   ]
  },
  {
   "cell_type": "code",
   "execution_count": 10,
   "id": "f89efe1d",
   "metadata": {},
   "outputs": [
    {
     "name": "stdout",
     "output_type": "stream",
     "text": [
      "True\n",
      "False\n",
      "True\n",
      "False\n"
     ]
    }
   ],
   "source": [
    "#What is the output of expression inside the print statement. Cross\n",
    "#check before running the program.\n",
    "\n",
    "a = True\n",
    "b = True\n",
    "print(a is b)\n",
    "# Output is True\n",
    "#Both variables refer to the same memory location \n",
    "\n",
    "\n",
    "print(a is not b)\n",
    "# Output is False\n",
    "#Both variables refer to the same memory location \n",
    "\n",
    "a = False\n",
    "b = False\n",
    "print(a is b)\n",
    "# Output is True\n",
    "#Both variables refer to the same memory location \n",
    "\n",
    "print(a is not b)\n",
    "# Output is False\n",
    "#Both variables refer to the same memory location \n"
   ]
  },
  {
   "cell_type": "code",
   "execution_count": 11,
   "id": "70782227",
   "metadata": {},
   "outputs": [
    {
     "name": "stdout",
     "output_type": "stream",
     "text": [
      "True\n",
      "True\n",
      "True\n",
      "True\n",
      "True\n"
     ]
    }
   ],
   "source": [
    "#Membership operation\n",
    "#in, not in are two membership operators and it returns boolean value\n",
    "\n",
    "\n",
    "print(True in [10, 10.20, 10+20j, 'Python', True])\n",
    "# Output is True\n",
    "#True is present in the list.\n",
    "\n",
    "print(False in (10, 10.20, 10+20j, 'Python', False))\n",
    "# Output is True\n",
    "#False is present in the tuple.\n",
    "\n",
    "print(True in {1, 2, 3, True})\n",
    "# Output is True\n",
    "#True is present in the set.\n",
    "\n",
    "print(True in {True: 100, False: 200, True: 300})\n",
    "# Output is True\n",
    "# True is a key in the dictionary.\n",
    "\n",
    "print(False in {True: 100, False: 200, True: 300})\n",
    "# Output is True\n",
    "#False is a key in the dictionary.\n"
   ]
  },
  {
   "cell_type": "code",
   "execution_count": null,
   "id": "352bee10",
   "metadata": {},
   "outputs": [],
   "source": []
  }
 ],
 "metadata": {
  "kernelspec": {
   "display_name": "Python 3 (ipykernel)",
   "language": "python",
   "name": "python3"
  },
  "language_info": {
   "codemirror_mode": {
    "name": "ipython",
    "version": 3
   },
   "file_extension": ".py",
   "mimetype": "text/x-python",
   "name": "python",
   "nbconvert_exporter": "python",
   "pygments_lexer": "ipython3",
   "version": "3.11.5"
  }
 },
 "nbformat": 4,
 "nbformat_minor": 5
}
