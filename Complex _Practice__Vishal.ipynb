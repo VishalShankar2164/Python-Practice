{
 "cells": [
  {
   "cell_type": "code",
   "execution_count": 1,
   "id": "75e9733a",
   "metadata": {},
   "outputs": [
    {
     "name": "stdout",
     "output_type": "stream",
     "text": [
      "(3+4j) <class 'complex'>\n"
     ]
    }
   ],
   "source": [
    "#Declare a complex number and store it in a variable.\n",
    "#Check the type and print the id of the same.\n",
    "\n",
    "a = 3+4j\n",
    "\n",
    "print(a , type(a))"
   ]
  },
  {
   "cell_type": "code",
   "execution_count": 3,
   "id": "592102af",
   "metadata": {},
   "outputs": [
    {
     "name": "stdout",
     "output_type": "stream",
     "text": [
      "(4+6j)\n",
      "(2+2j)\n",
      "(-5+10j)\n",
      "(2.2-0.4j)\n",
      "(-0.41981317556195746-0.6604516942073324j)\n"
     ]
    }
   ],
   "source": [
    "#Arithmetic Operations on integers.\n",
    "#Take two different integer values.Store them in two different variables.\n",
    "#Do below operations on them:-\n",
    "\n",
    "#Find sum of both numbers\n",
    "#Find difference between them\n",
    "#Find the product of both numbers.\n",
    "#Find value after dividing first num with second number\n",
    "#Find the result of the first num to the power of the second number\n",
    "\n",
    "\n",
    "a = 3+4j\n",
    "b = 1+2j\n",
    "\n",
    "print(a+b)\n",
    "print(a-b)\n",
    "print(a*b)\n",
    "print(a/b)\n",
    "print(a**b)"
   ]
  },
  {
   "cell_type": "code",
   "execution_count": null,
   "id": "4a2b9db7",
   "metadata": {},
   "outputs": [],
   "source": [
    "#Comparison Operation not applicable between instance of complex values.\n",
    "#Object reusability concept is not applicable on complex number\n",
    "\n",
    "#Python does not support ordering comparisons between complex numbers. \n",
    "#This means that you cannot use comparison operators like <, <=, >, and >= directly between complex numbers.\n",
    "\n",
    "#Complex numbers do not follow the object reusability concept "
   ]
  },
  {
   "cell_type": "code",
   "execution_count": 4,
   "id": "2fe33c20",
   "metadata": {},
   "outputs": [
    {
     "name": "stdout",
     "output_type": "stream",
     "text": [
      "False\n",
      "True\n"
     ]
    }
   ],
   "source": [
    "#Equality Operator\n",
    "#Take two different complex numbers.Store them in two different variables.\n",
    "#Equate them using equality operators (==, !=)\n",
    "#Observe the output(return type should be boolean)\n",
    "\n",
    "a = 3+4j\n",
    "b = 1+2j\n",
    "\n",
    "print(a==b)\n",
    "print(a!=b)"
   ]
  },
  {
   "cell_type": "code",
   "execution_count": null,
   "id": "a56573d0",
   "metadata": {},
   "outputs": [],
   "source": [
    "# Logical operators Observe the output of below code. Cross check the output manually\n",
    "\n",
    "print(10+20j and 20+30j)  # 20+30j\n",
    "# Both operands are truth, so the result is the second operand.\n",
    "\n",
    "print(0+0j and 20+30j)  # 0+0j\n",
    "# The first operand is false (0+0j), so the result is the first operand.\n",
    "\n",
    "print(20+30j and 0+0j)  # 0+0j\n",
    "# The second operand is false (0+0j), so the result is the second operand.\n",
    "\n",
    "print(0+0j and 0+0j)  # 0+0j\n",
    "# Both operands are false, so the result is the first operand.\n",
    "\n",
    "print(10+20j or 20+30j)  # 10+20j\n",
    "# The first operand is truthy (10+20j), so the result is the first operand.\n",
    "\n",
    "print(0+0j or 20+30j)  # 20+30j\n",
    "# The first operand is false (0+0j), so the result is the second operand.\n",
    "\n",
    "print(20+30j or 0+0j)  # 20+30j\n",
    "# The first operand is truthy (20+30j), so the result is the first operand.\n",
    "\n",
    "print(0+0j or 0+0j)  # 0+0j\n",
    "# Both operands are false, so the result is the second operand.\n",
    "\n",
    "print(not 10+20j)  # False\n",
    "# The operand is truth, so the result is False.\n",
    "\n",
    "print(not 0+0j)  # True\n",
    "# The operand is false, so the result is True.\n"
   ]
  },
  {
   "cell_type": "code",
   "execution_count": 5,
   "id": "1b9bb1df",
   "metadata": {},
   "outputs": [
    {
     "name": "stdout",
     "output_type": "stream",
     "text": [
      "False\n",
      "True\n"
     ]
    }
   ],
   "source": [
    "#What is the output of the expression inside the print statement.Cross check before running the program.\n",
    "\n",
    "a = 10+20j\n",
    "b = 10+20j\n",
    "print(a is b) #False \n",
    "print(a is not b) #True \n",
    "\n",
    "#Although the values of a and b are the same,But two different objects in memory.\n",
    "#Memory reusablity concept will not apply for complex data type"
   ]
  },
  {
   "cell_type": "code",
   "execution_count": 6,
   "id": "998dcdbb",
   "metadata": {},
   "outputs": [
    {
     "name": "stdout",
     "output_type": "stream",
     "text": [
      "True\n",
      "True\n",
      "True\n",
      "True\n",
      "True\n",
      "True\n"
     ]
    }
   ],
   "source": [
    "print('2.7' in 'Python2.7.8')  # True\n",
    "#'2.7' is present in the string 'Python2.7.8'.\n",
    "\n",
    "print(10+20j in [10, 10.20, 10+20j, 'Python'])  # True\n",
    "# The complex number 10+20j is present \n",
    "\n",
    "print(10+20j in (10, 10.20, 10+20j, 'Python'))  # True\n",
    "# The complex number 10+20j is present \n",
    "\n",
    "print(30+40j in {1, 20.30, 30+40j})  # True\n",
    "# The complex number 30+40j is present \n",
    "\n",
    "print(30+40j in {1: 100, 2.3: 200, 30+40j: 300})  # True\n",
    "# The complex number 30+40j is a key in the dictionary.\n",
    "\n",
    "print(10 in range(20))  # True\n",
    "# The integer 10 is present in the range from 0 to 19.\n"
   ]
  },
  {
   "cell_type": "code",
   "execution_count": null,
   "id": "a1846fe5",
   "metadata": {},
   "outputs": [],
   "source": []
  }
 ],
 "metadata": {
  "kernelspec": {
   "display_name": "Python 3 (ipykernel)",
   "language": "python",
   "name": "python3"
  },
  "language_info": {
   "codemirror_mode": {
    "name": "ipython",
    "version": 3
   },
   "file_extension": ".py",
   "mimetype": "text/x-python",
   "name": "python",
   "nbconvert_exporter": "python",
   "pygments_lexer": "ipython3",
   "version": "3.11.5"
  }
 },
 "nbformat": 4,
 "nbformat_minor": 5
}
