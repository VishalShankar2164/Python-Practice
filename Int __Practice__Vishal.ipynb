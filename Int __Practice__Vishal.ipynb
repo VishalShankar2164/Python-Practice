{
 "cells": [
  {
   "cell_type": "code",
   "execution_count": 1,
   "id": "c01a4b44",
   "metadata": {},
   "outputs": [
    {
     "name": "stdout",
     "output_type": "stream",
     "text": [
      "3 <class 'int'>\n"
     ]
    }
   ],
   "source": [
    "#Declare an int value and store it in a variable.Check the type and print the id of the same.\n",
    "\n",
    "a = 3\n",
    "\n",
    "print(a,type(a))\n"
   ]
  },
  {
   "cell_type": "code",
   "execution_count": 3,
   "id": "069c70db",
   "metadata": {},
   "outputs": [
    {
     "name": "stdout",
     "output_type": "stream",
     "text": [
      "3 140717011080040\n",
      "3 140717011080040\n"
     ]
    }
   ],
   "source": [
    "#Take one int value between 0 - 256.Assign it to two different variables.\n",
    "#Check the id of both the variables. It should come the same. Check why?\n",
    "\n",
    "a = int(3)\n",
    "b = int(3)\n",
    "\n",
    "print(a,id(a))\n",
    "print(b,id(b))\n",
    "\n",
    "#In Python, when you assign the integer value (between -5 and 256) to multiple variables, they share the same memory location and reusing these common values. \n",
    "#The IDs of variables a and b are the same because the value 3 is within the range of -5 to 256 and uses memory reusablity. "
   ]
  },
  {
   "cell_type": "code",
   "execution_count": 4,
   "id": "a6eea6cd",
   "metadata": {},
   "outputs": [
    {
     "name": "stdout",
     "output_type": "stream",
     "text": [
      "260 2456855590704\n",
      "260 2456855591056\n"
     ]
    }
   ],
   "source": [
    "#Take one int value either less than -5 or greater than 256.\n",
    "#Assign it to two different variables.\n",
    "#Check the id of both the variables. It should come different.Check why?\n",
    "\n",
    "\n",
    "a = int(260)\n",
    "b = int(260)\n",
    "\n",
    "print(a,id(a))\n",
    "print(b,id(b))\n",
    "\n",
    "#The reason the IDs of variables 'a' and 'b' are different, even though they have the same value (260), \n",
    "#is that the memory reusability concept does not apply to integer values below -5 and above 256."
   ]
  },
  {
   "cell_type": "code",
   "execution_count": 11,
   "id": "15e5df42",
   "metadata": {},
   "outputs": [
    {
     "name": "stdout",
     "output_type": "stream",
     "text": [
      "40\n",
      "20\n",
      "300\n",
      "3.0\n",
      "0\n",
      "3.0\n",
      "590490000000000\n"
     ]
    }
   ],
   "source": [
    "#Arithmetic Operations on integers.\n",
    "#Take two different integer values.Store them in two different variables.\n",
    "#Do below operations on them:-\n",
    "\n",
    "#Find sum of both numbers\n",
    "#Find difference between them\n",
    "#Find the product of both numbers.\n",
    "#Find value after dividing first num with second number\n",
    "#Find the remainder after dividing first number with second number\n",
    "#Find the quotient after dividing first number with second number\n",
    "#Find the result of the first num to the power of the second number.\n",
    "\n",
    "\n",
    "a = 30\n",
    "b = 10\n",
    "\n",
    "print(a+b)\n",
    "print(a-b)\n",
    "print(a*b)\n",
    "print(a/b)\n",
    "print(a%b)\n",
    "print(a//b)\n",
    "print(a**b)"
   ]
  },
  {
   "cell_type": "code",
   "execution_count": 12,
   "id": "3b9facc7",
   "metadata": {},
   "outputs": [
    {
     "name": "stdout",
     "output_type": "stream",
     "text": [
      "True\n",
      "False\n",
      "True\n",
      "False\n"
     ]
    }
   ],
   "source": [
    "#Comparison Operators on integers.\n",
    "#Take two different integer values.Store them in two different variables.\n",
    "#Do below operations on them:-Compare se two numbers with below operator:-\n",
    "\n",
    "#Greater than, '>'\n",
    "#Smaller than, '<'\n",
    "#Greater than or equal to, '>='\n",
    "#Less than or equal to, '<='\n",
    "#Observe their output(return type should be boolean)\n",
    "\n",
    "a = 30\n",
    "b = 10\n",
    "\n",
    "print(a>b)\n",
    "print(a<b)\n",
    "print(a>=b)\n",
    "print(a<=b)"
   ]
  },
  {
   "cell_type": "code",
   "execution_count": 2,
   "id": "0d0275be",
   "metadata": {},
   "outputs": [
    {
     "name": "stdout",
     "output_type": "stream",
     "text": [
      "False\n",
      "True\n"
     ]
    }
   ],
   "source": [
    "#Equality Operator\n",
    "#Take two different integer values.Store them in two different variables.\n",
    "#Equate them using equality operators (==, !=)\n",
    "#Observe the output(return type should be boolean)\n",
    "\n",
    "a = 30\n",
    "b = 10\n",
    "\n",
    "print(a==b)\n",
    "print(a!=b)"
   ]
  },
  {
   "cell_type": "code",
   "execution_count": 1,
   "id": "49764dde",
   "metadata": {},
   "outputs": [
    {
     "name": "stdout",
     "output_type": "stream",
     "text": [
      "20\n",
      "0\n",
      "0\n",
      "0\n",
      "10\n",
      "20\n",
      "20\n",
      "0\n",
      "False\n",
      "True\n"
     ]
    }
   ],
   "source": [
    "#Logical operators\n",
    "#Observe the output of below code\n",
    "#Cross check the output manually\n",
    "\n",
    "\n",
    "#Result will be A if A is False else B,in integer 0 is false and rest all are true\n",
    "print(10 and 20)\n",
    "print(0 and 20)\n",
    "print(20 and 0)\n",
    "print(0 and 0)\n",
    "\n",
    "#Result will be A if A is True else B,in integer 0 is false and rest all are true\n",
    "print(10 or 20)\n",
    "print(0 or 20)\n",
    "print(20 or 0)\n",
    "print(0 or 0)\n",
    "\n",
    "#Result will be opposite \n",
    "print(not 10)\n",
    "print(not 0)\n"
   ]
  },
  {
   "cell_type": "code",
   "execution_count": 41,
   "id": "77916404",
   "metadata": {},
   "outputs": [
    {
     "name": "stdout",
     "output_type": "stream",
     "text": [
      "0\n",
      "30\n",
      "30\n",
      "-11\n",
      "40\n",
      "2\n"
     ]
    }
   ],
   "source": [
    "#Bitwise Operators\n",
    "#Do below operations on the values provided below:-\n",
    "\n",
    "#Bitwise and(&)\n",
    "\n",
    "a = 10 \n",
    "b = 20 \n",
    "\n",
    "print(a & b)\n",
    "\n",
    "\n",
    "#When applying the bitwise AND & operator between integer variables a and b, \n",
    "#their decimal values are first converted to binary. \n",
    "#The binary numbers are added with zeros on the left side to equalize length. \n",
    "#Then, a & b performs an AND operation on each matching pair of bits from a and b.  \n",
    "#Here, a=10 (0b1010 in binary) and b=20 (0b10100). Bitwise AND outputs 0b00000 binary,\n",
    "#which converts to the integer 0. So a & b prints 0.\n",
    "\n",
    "#Bitwise or(|)\n",
    "\n",
    "a = 10 \n",
    "b = 20 \n",
    "\n",
    "print(a | b)\n",
    "\n",
    "\n",
    "#When applying the bitwise OR operator between integer variables a and b,\n",
    "#The binary numbers are added with zeros on the left side to equalize length. \n",
    "#Then, a | b performs an OR operation on each matching pair of bits from a and b.  \n",
    "#Here, a=10 (0b1010 in binary) and b=20 (0b10100). Bitwise OR outputs 0b11110 binary,\n",
    "#which converts to the integer 30. So a & b prints 30.\n",
    "\n",
    "#Bitwise or(|)\n",
    "\n",
    "a = 10 \n",
    "b = 20 \n",
    "\n",
    "print(a ^ b)\n",
    "\n",
    "#The expression a & b executes an XOR operation, \n",
    "#producing a binary output where a bit is set to 1 if either one of the corresponding bits in the operands is 1.\n",
    "#If both bits are either 0 or 1, the output bit is set to 0. \n",
    "\n",
    "\n",
    "#Bitwise negation(~)\n",
    "\n",
    "a = 10\n",
    "\n",
    "print(~a)\n",
    "#The bitwise negation operation inverts each bit of the binary value and converts it into integer\n",
    "\n",
    "\n",
    "#Bitwise left shift(<<)\n",
    "\n",
    "a=10\n",
    "\n",
    "print(a<<2)\n",
    "#by using this formula a*(2**n), where a = 10 & n = 2 \n",
    "\n",
    "\n",
    "#Bitwise right shift(>>)\n",
    "\n",
    "a=10\n",
    "\n",
    "print(a>>2)\n",
    "#by using this formula a // (2**n), where a = 10 & n = 2 "
   ]
  },
  {
   "cell_type": "code",
   "execution_count": 42,
   "id": "82eb4755",
   "metadata": {},
   "outputs": [
    {
     "name": "stdout",
     "output_type": "stream",
     "text": [
      "True\n",
      "False\n"
     ]
    }
   ],
   "source": [
    "# What is the output of expression inside print statement. \n",
    "# Cross check before running the program.\n",
    "\n",
    "a = 10\n",
    "b = 10\n",
    "\n",
    "print(a is b) #True\n",
    "print(a is not b) #False\n",
    "\n",
    "#Integers, typically in the range -5 to 256, are stored in the same memory location. \n",
    "#Both 'a' and 'b' have the value 10, and since it falls within this range, they refer to the same object in memory, \n",
    "#utilizing the Memory Reusability concept. \n",
    "#Therefore, 'a is b' evaluates to True, and 'a is not b' evaluates to False"
   ]
  },
  {
   "cell_type": "code",
   "execution_count": 43,
   "id": "671ea609",
   "metadata": {},
   "outputs": [
    {
     "name": "stdout",
     "output_type": "stream",
     "text": [
      "False\n",
      "True\n"
     ]
    }
   ],
   "source": [
    "a = 1000\n",
    "b = 1000\n",
    "\n",
    "print(a is b) #False\n",
    "print(a is not b) #True\n",
    "\n",
    "#Here, the memory reusability concept does not apply because the integers are above 256."
   ]
  },
  {
   "cell_type": "code",
   "execution_count": 44,
   "id": "98e83181",
   "metadata": {},
   "outputs": [
    {
     "name": "stdout",
     "output_type": "stream",
     "text": [
      "20\n"
     ]
    }
   ],
   "source": [
    "#What is the output of expression inside print statement. Cross check before running the program.\n",
    "\n",
    "print(10+(10*32)//2**5&20+(~(-10))<<2)\n",
    "\n",
    "Okay, let's break this down step-by-step:\n",
    "\n",
    "#10 + (10 * 32)\n",
    "#10 + 320\n",
    "#330\n",
    "#330 // 2 ** 5\n",
    "#330 // 32\n",
    "#10\n",
    "#10 & 20\n",
    "#Bitwise AND of 10 (0b1010) and 20 (0b10100) is 0\n",
    "#~(-10)\n",
    "#~(-0b1010) = 0b0101 = 5\n",
    "#5 << 2\n",
    "#Bitwise shift left 5 (0b0101) by 2 bits = 0b10100 = 20\n",
    "#0 + 20 = 20\n",
    "#Print output: 20\n"
   ]
  },
  {
   "cell_type": "code",
   "execution_count": 52,
   "id": "10ab1985",
   "metadata": {},
   "outputs": [
    {
     "name": "stdout",
     "output_type": "stream",
     "text": [
      "True\n",
      "True\n",
      "True\n",
      "True\n",
      "True\n",
      "True\n"
     ]
    }
   ],
   "source": [
    "#Membership operation in, not in are two membership operators and it returns boolean value\n",
    "\n",
    "\n",
    "print('2' in 'Python2.7.8')\n",
    "print(10 in [10,10.20,10+20j,'Python'])\n",
    "print(10 in (10,10.20,10+20j,'Python'))\n",
    "print(2 in {1,2,3})\n",
    "print(3 in {1:100, 2:200, 3:300})\n",
    "print(10 in range(20))\n",
    "\n",
    "#membership operators in programming are used to check if a value belongs to a sequence, \n",
    "#such as a string, list, or tuple. There are two membership operators in Python:\n",
    "# in: It checks if a value exists in a sequence\n",
    "# not in: It checks if a value does not exist in a sequence."
   ]
  },
  {
   "cell_type": "code",
   "execution_count": 56,
   "id": "3900546a",
   "metadata": {},
   "outputs": [
    {
     "name": "stdout",
     "output_type": "stream",
     "text": [
      "10\n",
      "14\n",
      "10\n"
     ]
    }
   ],
   "source": [
    "#Q. An integer can be represented in binary, octal or hexadecimal form.\n",
    "#Declare one binary, one octal and one hexadecimal value and store them\n",
    "#in three different variables.\n",
    "\n",
    "a = 0b1010 #bin\n",
    "b = 0o16 #octa\n",
    "c = 0xA #hexa\n",
    "\n",
    "print(a)\n",
    "print(b)\n",
    "print(c)"
   ]
  },
  {
   "cell_type": "code",
   "execution_count": 65,
   "id": "1e638472",
   "metadata": {},
   "outputs": [
    {
     "name": "stdout",
     "output_type": "stream",
     "text": [
      "0b10011010010100----0o23224----0x2694\n"
     ]
    }
   ],
   "source": [
    "#Convert 9876 to its binary, octal and hexadecimal equivalent and print\n",
    "#their corresponding value.\n",
    "\n",
    "a= bin(9876) #0b10011010010100\n",
    "b= oct(9876) #0o23224\n",
    "c= hex(9876) #0x2694\n",
    "\n",
    "print(a,b,c, sep=\"----\")\n"
   ]
  },
  {
   "cell_type": "code",
   "execution_count": 71,
   "id": "e5b61b8a",
   "metadata": {},
   "outputs": [
    {
     "name": "stdout",
     "output_type": "stream",
     "text": [
      "80\n",
      "3870\n",
      "64222\n",
      "0b1010000\n",
      "0o7436\n",
      "0xfade\n",
      "0b1010000\n",
      "0b1111101011011110\n",
      "0o175336\n",
      "0o7436\n",
      "0x50\n",
      "0xfade\n"
     ]
    }
   ],
   "source": [
    "#What will be the output of following:-\n",
    "\n",
    "\n",
    "a = 0b1010000 # binary value 0b1010000,which is equivalent to the integer number 80\n",
    "print(a)\n",
    "b = 0o7436 #octal value 0o7436 , which is equivalent to the integer number 3870\n",
    "print(b)\n",
    "c = 0xfade #hexadecimal value 0xfade , which is equivalent to the integer number 64222\n",
    "print(c)\n",
    "print(bin(80)) # converts the number 80 to its binary value\n",
    "print(oct(3870)) #converts the number 3870 to its octal value\n",
    "print(hex(64222)) #converts the number 3870 to its octal value\n",
    "print(bin(0b1010000)) # this will be the same as it coverts binary to binary\n",
    "print(bin(0xfade)) #converts the hexadecimal number to its binary value\n",
    "print(oct(0xfade)) #converts the hexadecimal number to its octal value\n",
    "print(oct(0o7436)) #this will be the same as it coverts Octal to Octal\n",
    "print(hex(0b1010000)) #converts the binary number to its hexa value\n",
    "print(hex(0xfade)) ##this will be the same as it coverts Hexa to Hexa"
   ]
  },
  {
   "cell_type": "code",
   "execution_count": null,
   "id": "3393ab6f",
   "metadata": {},
   "outputs": [],
   "source": []
  }
 ],
 "metadata": {
  "kernelspec": {
   "display_name": "Python 3 (ipykernel)",
   "language": "python",
   "name": "python3"
  },
  "language_info": {
   "codemirror_mode": {
    "name": "ipython",
    "version": 3
   },
   "file_extension": ".py",
   "mimetype": "text/x-python",
   "name": "python",
   "nbconvert_exporter": "python",
   "pygments_lexer": "ipython3",
   "version": "3.11.5"
  }
 },
 "nbformat": 4,
 "nbformat_minor": 5
}
