{
 "cells": [
  {
   "cell_type": "code",
   "execution_count": 3,
   "metadata": {
    "id": "1YVTYu-CuCOO"
   },
   "outputs": [
    {
     "data": {
      "text/plain": [
       "30"
      ]
     },
     "execution_count": 3,
     "metadata": {},
     "output_type": "execute_result"
    }
   ],
   "source": [
    "# Define a function calls addNumber(x, y) that takes in two number and returns the sum of the two numbers.\n",
    "\n",
    "def addNumber(x, y):\n",
    "    return x + y\n"
   ]
  },
  {
   "cell_type": "code",
   "execution_count": 4,
   "metadata": {
    "id": "1-gIq-Rju2i2"
   },
   "outputs": [
    {
     "data": {
      "text/plain": [
       "-10"
      ]
     },
     "execution_count": 4,
     "metadata": {},
     "output_type": "execute_result"
    }
   ],
   "source": [
    "# Define a function calls subtractNumber(x, y) that takes in two numbers and returns the difference of the two numbers.\n",
    "\n",
    "def subtractNumber(x, y):\n",
    "    return x - y\n"
   ]
  },
  {
   "cell_type": "code",
   "execution_count": 6,
   "metadata": {
    "id": "kiAE0iLbviG9"
   },
   "outputs": [
    {
     "data": {
      "text/plain": [
       "40.1"
      ]
     },
     "execution_count": 6,
     "metadata": {},
     "output_type": "execute_result"
    }
   ],
   "source": [
    "# Write a function getBiggerNumber(x, y) that takes in two numbers as arguments and returns the bigger number.\n",
    "\n",
    "def getBiggerNumber(x, y):\n",
    "    if x > y:\n",
    "        return x\n",
    "    else:\n",
    "        return y\n",
    "    \n"
   ]
  },
  {
   "cell_type": "code",
   "execution_count": 5,
   "metadata": {
    "id": "10B5oVcZh16d"
   },
   "outputs": [
    {
     "name": "stdout",
     "output_type": "stream",
     "text": [
      "4.0 243.0\n"
     ]
    }
   ],
   "source": [
    "# Python provides many built-in modules with many useful functions. \n",
    "# One such module is the math module. The math module provides many useful functions such as sqrt(x), pow(x, y), ceil(x), floor(x) etc. \n",
    "# You will need to do a \"import math\" before you are allowed to use the functions within the math module.\n",
    "\n",
    "import math \n",
    "\n",
    "# Calculate the square root of 16 and stores it in the variable a\n",
    "a = math.sqrt(16)\n",
    "\n",
    "# Calculate 3 to the power of 5 and stores it in the variable b\n",
    "b = math.pow(3,5)\n",
    "\n",
    "# Calculate area of circle with radius = 3.0 by making use of the math.pi constant and store it in the variable c\n",
    "c = math.pi(3 * 3)\n",
    "\n",
    "print(a,b,c)"
   ]
  },
  {
   "cell_type": "code",
   "execution_count": 16,
   "metadata": {
    "id": "Yado0B99h2E_"
   },
   "outputs": [
    {
     "data": {
      "text/plain": [
       "82.4"
      ]
     },
     "execution_count": 16,
     "metadata": {},
     "output_type": "execute_result"
    }
   ],
   "source": [
    "# Write a function to convert temperature from Celsius to Fahrenheit scale.\n",
    "# oC to oF Conversion: Multipy by 9, then divide by 5, then add 32.\n",
    "\n",
    "# Note:  \n",
    "# Out - '82.40'\n",
    "# In - Cel2Fah(0.00)\n",
    "# Out - '32.00'\n",
    "\n",
    "\n",
    "def cel_to_far(celsius):\n",
    "    Fahrenheit = (celsius * 9/5)+32\n",
    "    return Fahrenheit\n",
    "\n",
    "cel_to_far(28)"
   ]
  },
  {
   "cell_type": "code",
   "execution_count": 1,
   "metadata": {
    "id": "n7lsFol9h2ID"
   },
   "outputs": [
    {
     "data": {
      "text/plain": [
       "21.8"
      ]
     },
     "execution_count": 1,
     "metadata": {},
     "output_type": "execute_result"
    }
   ],
   "source": [
    "# Write a function to compute the BMI of a person.\n",
    "#     BMI = weight(kg)  /  ( height(m)*height(m) )\n",
    "\n",
    "# Note: Return a string of 1 decimal place.\n",
    "# In - BMI(63, 1.7)\n",
    "# Out - '21.8'\n",
    "# In - BMI(110, 2)\n",
    "# Out - '27.5'\n",
    "\n",
    "def BMI(weight ,height ):\n",
    "    BMI = (weight / (height*height))\n",
    "    return round(BMI , 2)\n",
    "\n",
    "BMI(63,1.7)"
   ]
  },
  {
   "cell_type": "code",
   "execution_count": 7,
   "metadata": {
    "id": "f2tV1AU8h2LN"
   },
   "outputs": [
    {
     "name": "stdout",
     "output_type": "stream",
     "text": [
      "100\n"
     ]
    }
   ],
   "source": [
    "# Write a function percent(value, total) that takes in two numbers as arguments, and returns the percentage value as an integer.\n",
    "# In - percent(46, 90)\n",
    "# Out - 51\n",
    "# In - percent(51, 51)\n",
    "# Out - 100\n",
    "# In - percent(63, 12)\n",
    "# Out - 525\n",
    "\n",
    "def percent(value, total):\n",
    "        percent = (value/total)*100\n",
    "        print(int(percent))\n"
   ]
  },
  {
   "cell_type": "code",
   "execution_count": 17,
   "metadata": {
    "id": "QyoWR3dQh2OZ"
   },
   "outputs": [
    {
     "name": "stdout",
     "output_type": "stream",
     "text": [
      "13\n"
     ]
    }
   ],
   "source": [
    "# Write a function to compute the hypotenuse given sides a and b of the triangle.\n",
    "# Hint: You can use math.sqrt(x) to compute the square root of x.\n",
    "# In - hypotenuse(3, 4)\n",
    "# Out - 5\n",
    "# In - hypotenuse(5, 12)\n",
    "# Out - 13\n",
    " \n",
    "import math\n",
    "def hypotenuse(a,b):\n",
    "\n",
    "    hypotenuse = math.sqrt( a**2 + b**2)\n",
    "    print(int(hypotenuse))\n",
    "\n",
    "hypotenuse(5,12)"
   ]
  },
  {
   "cell_type": "code",
   "execution_count": null,
   "metadata": {
    "id": "XthPUigkh2Ro"
   },
   "outputs": [],
   "source": [
    "# Write a function getSumOfLastDigits() that takes in a list of positive numbers and returns the sum of all the last digits in the list.\n",
    "# getSumOfLastDigits([2, 3, 4])\n",
    "# 9\n",
    "# getSumOfLastDigits([1, 23, 456])\n",
    "# 10\n",
    " \n",
    "    \n"
   ]
  },
  {
   "cell_type": "code",
   "execution_count": 4,
   "metadata": {
    "id": "T-uIqm9Mh2Un"
   },
   "outputs": [
    {
     "name": "stdout",
     "output_type": "stream",
     "text": [
      "My name is Don. My age is a secret.\n"
     ]
    }
   ],
   "source": [
    "# Write a function that uses a default value.\n",
    "# In - introduce('Lim', 20)\n",
    "# Out - 'My name is Lim. I am 20 years old.'\n",
    "# In - introduce('Ahmad')\n",
    "# Out - 'My name is Ahmad. My age is secret.'\n",
    "\n",
    "def introduce(name, age=None):\n",
    "    if age is not None:\n",
    "        print(f\"My name is {name}. I am {age} years old.\")\n",
    "    else:\n",
    "        print(f\"My name is {name}. My age is a secret.\")\n",
    "\n",
    "introduce(\"Don\")\n"
   ]
  },
  {
   "cell_type": "code",
   "execution_count": 7,
   "metadata": {
    "id": "h0pXo5vH6wA-"
   },
   "outputs": [
    {
     "name": "stdout",
     "output_type": "stream",
     "text": [
      "True\n"
     ]
    }
   ],
   "source": [
    "# Write a function isEquilateral(x, y, z) that accepts the 3 sides of a triangle as arguments. \n",
    "# The program should return True if it is an equilateral triangle.\n",
    "\n",
    "# In - isEquilateral(2, 4, 3)\n",
    "# False - False\n",
    "# In - isEquilateral(3, 3, 3)\n",
    "# Out - True\n",
    "# In - isEquilateral(-3, -3, -3)\n",
    "# Out - False\n",
    "\n",
    "\n",
    "def isEquilateral(x, y, z):\n",
    "     print (x == y == z)\n"
   ]
  },
  {
   "cell_type": "code",
   "execution_count": 12,
   "metadata": {
    "id": "3NvcKCkn6wFy"
   },
   "outputs": [
    {
     "name": "stdout",
     "output_type": "stream",
     "text": [
      "The discriminant is 0\n"
     ]
    }
   ],
   "source": [
    "# For a quadratic equation in the form of ax2+bx+c, the discriminant, D is b2-4ac. Write a function to compute the discriminant, D.\n",
    "# In - quadratic(1, 2, 3)\n",
    "# Out - 'The discriminant is -8.'\n",
    "# In - quadratic(1, 3, 2)\n",
    "# Out - 'The discriminant is 1.'\n",
    "# In - quadratic(1, 4, 4)\n",
    "# Out - 'The discriminant is 0.'\n",
    "\n",
    "def quadraticequation(a ,b , c):\n",
    "    d = (b**2) - (4*a*c)\n",
    "    print(f\"The discriminant is {d}\")\n",
    "    \n",
    "quadraticequation(1,4,4)"
   ]
  },
  {
   "cell_type": "code",
   "execution_count": 13,
   "metadata": {
    "colab": {
     "base_uri": "https://localhost:8080/",
     "height": 34
    },
    "id": "ihmuttBS6wJQ",
    "outputId": "0ef031e9-dec6-4ffe-b1ea-38d836dbcdcf"
   },
   "outputs": [
    {
     "name": "stdout",
     "output_type": "stream",
     "text": [
      "5\n",
      "0\n",
      "10\n"
     ]
    }
   ],
   "source": [
    "# Define a function calls addFirstAndLast(x) that takes in a list of numbers and returns the sum of the first and last numbers.\n",
    "# In - addFirstAndLast([])\n",
    "# Out - 0\n",
    "# In - addFirstAndLast([2, 7, 3])\n",
    "# Out - 5\n",
    "# In - addFirstAndLast([10])\n",
    "# Out - 10\n",
    "\n",
    "def addFirstAndLast(lst):\n",
    "    if len(lst) == 0:\n",
    "        print(0)\n",
    "    elif len(lst) == 1:\n",
    "        print(lst[0])\n",
    "    else :\n",
    "        print(len(lst) + len(lst)-1)\n",
    "        \n",
    "\n",
    "addFirstAndLast([2,7,3])\n",
    "addFirstAndLast([])\n",
    "addFirstAndLast([10])"
   ]
  },
  {
   "cell_type": "code",
   "execution_count": 17,
   "metadata": {
    "colab": {
     "base_uri": "https://localhost:8080/",
     "height": 34
    },
    "id": "lEt9HNPI6wM0",
    "outputId": "b07e15c3-a864-454c-aef5-1f1f0e07b39a"
   },
   "outputs": [
    {
     "data": {
      "text/plain": [
       "True"
      ]
     },
     "execution_count": 17,
     "metadata": {},
     "output_type": "execute_result"
    }
   ],
   "source": [
    "\n",
    "# Complete the 'lambda' expression so that it returns True if the argument is an even number, and False otherwise.\n",
    "\n",
    "(lambda num :  num%2 == 0)(8)"
   ]
  },
  {
   "cell_type": "code",
   "execution_count": null,
   "metadata": {
    "colab": {
     "base_uri": "https://localhost:8080/",
     "height": 35
    },
    "id": "JYWSZXPg6wQN",
    "outputId": "7b71e08d-573f-4d03-d5e3-e220df4c3b90"
   },
   "outputs": [
    {
     "data": {
      "application/vnd.google.colaboratory.intrinsic+json": {
       "type": "string"
      },
      "text/plain": [
       "\"'A function that computes and returns the final score.\""
      ]
     },
     "execution_count": 3,
     "metadata": {
      "tags": []
     },
     "output_type": "execute_result"
    }
   ],
   "source": [
    "\n",
    "# Get the documentation of below function\n",
    "\n",
    "def getScore(__doc__):\n",
    "  ''''A function that computes and returns the final score.'''\n",
    "  pass\n"
   ]
  },
  {
   "cell_type": "code",
   "execution_count": 19,
   "metadata": {
    "colab": {
     "base_uri": "https://localhost:8080/",
     "height": 34
    },
    "id": "zmi81hi76wTK",
    "outputId": "232b4456-63ad-4582-d2cd-d888952dc957"
   },
   "outputs": [
    {
     "name": "stdout",
     "output_type": "stream",
     "text": [
      "5\n",
      "10\n",
      "1\n"
     ]
    }
   ],
   "source": [
    "# In Python, it is possible to pass a function as a argument to another function. \n",
    "# Write a function useFunction(func, num) that takes in a function and a number as arguments. \n",
    "# The useFunction should produce the output shown in the examples given below.\n",
    "\n",
    "# def addOne(x):\n",
    "#   return x + 1\n",
    "# useFunction(addOne, 4)\n",
    "# 5\n",
    "# useFunction(addOne, 9)\n",
    "# 10\n",
    "# useFunction(addOne, 0)\n",
    "# 1\n",
    "\n",
    "def addOne(x):\n",
    "    return x +1\n",
    "\n",
    "def useFunction(func, num):\n",
    "    print(func(num))\n",
    "\n",
    "useFunction(addOne, 4)\n",
    "\n",
    "useFunction(addOne, 9)\n",
    "\n",
    "useFunction(addOne, 0)\n"
   ]
  },
  {
   "cell_type": "code",
   "execution_count": 28,
   "metadata": {
    "id": "JJm1zFMX6wWK"
   },
   "outputs": [
    {
     "name": "stdout",
     "output_type": "stream",
     "text": [
      "Enter a Number a: 1\n",
      "Enter a Number b: 2\n",
      "Enter a Number c: 3\n",
      "3\n"
     ]
    }
   ],
   "source": [
    "# Write a function find_max that accepts three numbers as arguments and returns the largest number among three. \n",
    "# Write another function main, in main() function accept three numbers from user and call find_max.\n",
    "\n",
    "def find_max(x , y , z):\n",
    "    if x >= y and x is x >= z:\n",
    "        print(x)\n",
    "    elif y >= x and y >= z:\n",
    "        print(y)\n",
    "    elif z >= x and z >= y :\n",
    "        print(z)\n",
    "        \n",
    "def main():\n",
    "    x = eval(input(\"Enter a Number a: \"))\n",
    "    y = eval(input(\"Enter a Number b: \"))\n",
    "    z = eval(input(\"Enter a Number c: \"))\n",
    "    \n",
    "    return find_max(x,y,z)\n",
    "    \n",
    "main()"
   ]
  },
  {
   "cell_type": "code",
   "execution_count": 40,
   "metadata": {
    "colab": {
     "base_uri": "https://localhost:8080/",
     "height": 34
    },
    "id": "PBvBwg0O6waD",
    "outputId": "57768b69-c749-4d88-be06-7a9d41a98de2"
   },
   "outputs": [
    {
     "name": "stdout",
     "output_type": "stream",
     "text": [
      "Enter a string: ar\n",
      "Number of vowels: 1\n"
     ]
    }
   ],
   "source": [
    "# Write a function, is_vowel that returns the value true if a given character is a vowel, \n",
    "# and otherwise returns false. \n",
    "# Write another function main, in main() function accept a string from user and count number \n",
    "# of vowels in that string.\n",
    "\n",
    "\n",
    "def is_vowel(char):\n",
    "    vowels = ['a', 'e', 'i', 'o', 'u']\n",
    "    if char.lower() in vowels:\n",
    "        return True\n",
    "    else:\n",
    "        return False\n",
    "\n",
    "def main():\n",
    "    string = input(\"Enter a string: \")\n",
    "    count = 0\n",
    "    for char in string:\n",
    "        if is_vowel(char):\n",
    "            count += 1\n",
    "    print(\"Number of vowels:\", count)\n",
    "    \n",
    "main()"
   ]
  },
  {
   "cell_type": "code",
   "execution_count": 50,
   "metadata": {},
   "outputs": [],
   "source": [
    "# Write a function named is_prime, which takes an integer as an argument and returns true \n",
    "# if the argument is a prime number, or false otherwise. \n",
    "# Also, write the main function that displays prime numbers between 1 to 500.\n",
    "\n",
    "def is_prime(num):\n",
    "    if num <= 1:\n",
    "        return False\n",
    "    for i in range(2, int(num**0.5) + 1):\n",
    "        if num % i == 0:\n",
    "            return False\n",
    "    return True\n",
    "\n",
    "\n",
    "def main():\n",
    "    for num in range(1, 501):\n",
    "        if is_prime(num):\n",
    "            print(num)\n",
    "\n",
    "\n"
   ]
  },
  {
   "cell_type": "code",
   "execution_count": 49,
   "metadata": {},
   "outputs": [
    {
     "name": "stdout",
     "output_type": "stream",
     "text": [
      "Sum of cubes: 225\n"
     ]
    }
   ],
   "source": [
    "# Write a function in python to find the sum of the cube of elements in a list. \n",
    "# The list is received as an argument to the function, in turn, the function must return the sum. \n",
    "# Write the main function which invokes the above function.\n",
    "\n",
    "def sum_of_cubes(lst):\n",
    "    return sum([x ** 3 for x in lst])\n",
    "\n",
    "def main():\n",
    "    my_list = [1, 2, 3, 4, 5]\n",
    "    result = sum_of_cubes(my_list)\n",
    "    print(\"Sum of cubes:\", result)\n",
    "main()"
   ]
  },
  {
   "cell_type": "code",
   "execution_count": 65,
   "metadata": {},
   "outputs": [
    {
     "name": "stdout",
     "output_type": "stream",
     "text": [
      "600\n"
     ]
    }
   ],
   "source": [
    "# Write the definition of a function zero_ending(scores) to add all those values in the list of scores, \n",
    "# which are ending with zero and display the sum.\n",
    "# For example: If the scores contain [200, 456, 300, 100, 234, 678] The sum should be displayed as 600\n",
    "\n",
    "def zero_ending(scores):\n",
    "    total = 0\n",
    "    for i in scores:\n",
    "        if str(i).endswith(\"0\"):\n",
    "            total += i\n",
    "    print(total)\n",
    "\n",
    "    \n",
    "zero_ending([200, 456, 300, 100, 234, 678])"
   ]
  },
  {
   "cell_type": "code",
   "execution_count": 68,
   "metadata": {},
   "outputs": [
    {
     "name": "stdout",
     "output_type": "stream",
     "text": [
      "LONDON\n",
      "NEW YORK\n"
     ]
    }
   ],
   "source": [
    "# Write a definition of a method count_now(places) to find and display those place names, \n",
    "# in which there are more than 5 characters.\n",
    "\n",
    "# For example :\n",
    "# If the list places contains\n",
    "# [\"DELHI\",\"LONDON\",\"PARIS\",\"NEW YORK\",\"DUBAI\"]\n",
    "# The following should get displayed :\n",
    "# LONDON\n",
    "# NEW YORK\n",
    "\n",
    "def count_now(places):\n",
    "    for place in places:\n",
    "        if len(place) > 5:\n",
    "            print(place)\n",
    "\n",
    "\n",
    "\n",
    "count_now([\"DELHI\", \"LONDON\", \"PARIS\", \"NEW YORK\", \"DUBAI\"])\n"
   ]
  },
  {
   "cell_type": "code",
   "execution_count": 74,
   "metadata": {},
   "outputs": [
    {
     "name": "stdout",
     "output_type": "stream",
     "text": [
      "414141\n",
      "DROND#\n",
      "GIRIRAJ#\n",
      "131313\n",
      "ZARA#\n"
     ]
    }
   ],
   "source": [
    "# Write a method in python to display the elements of list thrice if it is a number and display \n",
    "# the element terminated with ‘#’ if it is not a number.\n",
    "\n",
    "# For example, if the content of list is as follows :\n",
    "# ThisList=[‘41’,‘DROND’,‘GIRIRAJ’, ‘13’,‘ZARA’]\n",
    "# The output should be\n",
    "# 414141\n",
    "# DROND#\n",
    "# GIRIRAJ#\n",
    "# 131313\n",
    "# ZARA#\n",
    "\n",
    "def thrice(lst):\n",
    "    for i in lst:\n",
    "        if i.isdigit():\n",
    "            print((i)*3)\n",
    "        else:\n",
    "            print(i + \"#\")\n",
    "\n",
    "thrice([\"41\",\"DROND\",\"GIRIRAJ\", \"13\",\"ZARA\"])\n"
   ]
  },
  {
   "cell_type": "code",
   "execution_count": null,
   "metadata": {},
   "outputs": [],
   "source": [
    "# For a given list of values in descending order, write a method in python to search \n",
    "# for a value with the help of Binary Search method. \n",
    "# The method should return position of the value and should return -1 if the value not present in the list."
   ]
  },
  {
   "cell_type": "code",
   "execution_count": 3,
   "metadata": {},
   "outputs": [
    {
     "name": "stdout",
     "output_type": "stream",
     "text": [
      "([40, 50, 60], [10, 20, 30])\n"
     ]
    }
   ],
   "source": [
    "# Write a function half_and_half that takes in a list and change the list \n",
    "# such that the elements of the second half are now in the first half.\n",
    "\n",
    "# For example, if the size of list is even and content of list is as follows :\n",
    "# my_liist = [10,20,30,40,50,60]\n",
    "# The output should be\n",
    "# [40,50,60,10,20,30]\n",
    "# if the size of list is odd and content of list is as follows :\n",
    "# my_liist = [10,20,30,40,50,60,70]\n",
    "# The output should be\n",
    "# [50,60,70,40,10,20,30]\n",
    "\n",
    "def half_and_half(lst):\n",
    "    length = len(lst)\n",
    "    \n",
    "    if length % 2 == 0:\n",
    "        middle = length // 2\n",
    "    else:\n",
    "        middle = length // 2 + 1\n",
    "\n",
    "    \n",
    "    final = lst[:middle], lst[middle:] = lst[middle:], lst[:middle]\n",
    "    print((final))\n",
    "\n",
    "half_and_half([10,20,30,40,50,60])\n"
   ]
  },
  {
   "cell_type": "code",
   "execution_count": 1,
   "metadata": {
    "ExecuteTime": {
     "end_time": "2021-05-29T10:39:43.694779Z",
     "start_time": "2021-05-29T10:39:43.691446Z"
    }
   },
   "outputs": [],
   "source": [
    "# Write a function that accepts a dictionary as an argument. If the dictionary contains replicate values, \n",
    "# return an empty dictionary, otherwise, return a new dictionary whose values are now the keys and whose \n",
    "# keys are the values."
   ]
  },
  {
   "cell_type": "code",
   "execution_count": null,
   "metadata": {},
   "outputs": [],
   "source": []
  },
  {
   "cell_type": "code",
   "execution_count": null,
   "metadata": {},
   "outputs": [],
   "source": []
  },
  {
   "cell_type": "code",
   "execution_count": null,
   "metadata": {},
   "outputs": [],
   "source": []
  },
  {
   "cell_type": "code",
   "execution_count": null,
   "metadata": {},
   "outputs": [],
   "source": []
  }
 ],
 "metadata": {
  "colab": {
   "name": "Function_Assignment.ipynb",
   "provenance": []
  },
  "kernelspec": {
   "display_name": "Python 3 (ipykernel)",
   "language": "python",
   "name": "python3"
  },
  "language_info": {
   "codemirror_mode": {
    "name": "ipython",
    "version": 3
   },
   "file_extension": ".py",
   "mimetype": "text/x-python",
   "name": "python",
   "nbconvert_exporter": "python",
   "pygments_lexer": "ipython3",
   "version": "3.11.5"
  }
 },
 "nbformat": 4,
 "nbformat_minor": 1
}
