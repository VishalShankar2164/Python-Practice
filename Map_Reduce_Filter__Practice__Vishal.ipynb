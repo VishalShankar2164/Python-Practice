{
 "cells": [
  {
   "cell_type": "code",
   "execution_count": 4,
   "metadata": {},
   "outputs": [
    {
     "name": "stdout",
     "output_type": "stream",
     "text": [
      "[3, 6, 9, 12, 15]\n"
     ]
    }
   ],
   "source": [
    "# Write a Python program to triple all numbers of a given list of integers. Use Python map\n",
    "\n",
    "num = [1,2,3,4,5]\n",
    "triple = (list(map(lambda x : x*3 , num )))\n",
    "print(triple)"
   ]
  },
  {
   "cell_type": "code",
   "execution_count": 7,
   "metadata": {},
   "outputs": [
    {
     "name": "stdout",
     "output_type": "stream",
     "text": [
      "[12, 15, 18]\n"
     ]
    }
   ],
   "source": [
    "# Write a Python program to add three given lists using Python map and lambda\n",
    "num1 = [1,2,3]\n",
    "num2 = [4,5,6]\n",
    "num3 = [7,8,9]\n",
    "\n",
    "sum = list(map(lambda x,y,z: x+y+z ,num1,num2,num3))\n",
    "print(sum)"
   ]
  },
  {
   "cell_type": "code",
   "execution_count": 8,
   "metadata": {},
   "outputs": [
    {
     "name": "stdout",
     "output_type": "stream",
     "text": [
      "[(6, 6), (6, 4), (10, -4), (16, 2)]\n"
     ]
    }
   ],
   "source": [
    "# Write a Python program to add two given lists and find the difference between lists\n",
    "#output  - [(6, 6), (6, 4), (10, -4), (16, 2)]\n",
    "\n",
    "\n",
    "nums1 = [6, 5, 3, 9]\n",
    "nums2 = [0, 1, 7, 7]\n",
    "\n",
    "\n",
    "list = (list(map(lambda x,y: (x+y,x-y) ,nums1,nums2)))\n",
    "print(list)"
   ]
  },
  {
   "cell_type": "code",
   "execution_count": 6,
   "metadata": {},
   "outputs": [
    {
     "name": "stdout",
     "output_type": "stream",
     "text": [
      "{'o', 'd', 'h', 'l', 'r', 'w', 'e'}\n"
     ]
    }
   ],
   "source": [
    "# Write a Python program to convert all the characters in uppercase and lowercase \n",
    "#and eliminate duplicate letters from a given sequence\n",
    "\n",
    "\n",
    "sequence = \"HelloWorld\"\n",
    "\n",
    "mapped = list(map(lambda x: ''.join(x.lower()), sequence))\n",
    "\n",
    "print(set(mapped))\n"
   ]
  },
  {
   "cell_type": "code",
   "execution_count": 7,
   "metadata": {},
   "outputs": [
    {
     "name": "stdout",
     "output_type": "stream",
     "text": [
      "['Apple', 'Avocado', 'Apricot']\n"
     ]
    }
   ],
   "source": [
    "# Filter out the fruits that start with A \n",
    "\n",
    "\n",
    "fruits = [\"Apple\", \"Banana\", \"Kiwi\", \"Avocado\" , \"Apricot\"]\n",
    "filtered = list(filter(lambda x: x.startswith(\"A\"), fruits))\n",
    "print(filtered)\n",
    "\n"
   ]
  },
  {
   "cell_type": "code",
   "execution_count": 8,
   "metadata": {},
   "outputs": [
    {
     "name": "stdout",
     "output_type": "stream",
     "text": [
      "[1, 3, 5]\n"
     ]
    }
   ],
   "source": [
    "# Filter out the positve number from a list\n",
    "\n",
    "nums = [1, -2, 3, -4, 5]\n",
    "positive = list(filter(lambda x: x>0, nums))\n",
    "print(positive)"
   ]
  },
  {
   "cell_type": "code",
   "execution_count": 3,
   "metadata": {},
   "outputs": [
    {
     "name": "stdout",
     "output_type": "stream",
     "text": [
      "[15, 165, 10, 192]\n"
     ]
    }
   ],
   "source": [
    "# filter out the multiples of 3 and 5 from a list\n",
    "\n",
    "nums = [43 , 15 ,17,165,10,134,16,19,192,]\n",
    "multiple = list(filter(lambda x: x%3 == 0 or x%5 == 0, nums))\n",
    "print(multiple)"
   ]
  },
  {
   "cell_type": "code",
   "execution_count": 5,
   "metadata": {},
   "outputs": [
    {
     "name": "stdout",
     "output_type": "stream",
     "text": [
      "orange\n"
     ]
    }
   ],
   "source": [
    "# find the max string using reuduce function\n",
    "from functools import reduce \n",
    "\n",
    "\n",
    "strings = [\"apple\", \"banana\", \"mango\", \"orange\"]\n",
    "longest = reduce(lambda a,b: a if len(a) > len(b) else b, strings)\n",
    "print(longest)\n"
   ]
  },
  {
   "cell_type": "code",
   "execution_count": 8,
   "metadata": {},
   "outputs": [
    {
     "name": "stdout",
     "output_type": "stream",
     "text": [
      "[3.0, 5, 1]\n"
     ]
    }
   ],
   "source": [
    "# find the mean , max and min of a given list using reduce function\n",
    "\n",
    "\n",
    "nums = [1, 2, 3, 4, 5]\n",
    "mean = reduce(lambda a, b: a+b, nums) / len(nums)  \n",
    "max_= reduce(lambda a,b: a if a>b else b, nums)\n",
    "min_= reduce(lambda a,b: a if a<b else b, nums)\n",
    "\n",
    "print([mean, max_, min_])\n",
    "\n",
    "# 3 5 1"
   ]
  },
  {
   "cell_type": "code",
   "execution_count": null,
   "metadata": {},
   "outputs": [],
   "source": []
  }
 ],
 "metadata": {
  "kernelspec": {
   "display_name": "Python 3 (ipykernel)",
   "language": "python",
   "name": "python3"
  },
  "language_info": {
   "codemirror_mode": {
    "name": "ipython",
    "version": 3
   },
   "file_extension": ".py",
   "mimetype": "text/x-python",
   "name": "python",
   "nbconvert_exporter": "python",
   "pygments_lexer": "ipython3",
   "version": "3.11.5"
  }
 },
 "nbformat": 4,
 "nbformat_minor": 4
}
